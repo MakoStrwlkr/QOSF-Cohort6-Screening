{
 "cells": [
  {
   "cell_type": "markdown",
   "id": "d4d387ae",
   "metadata": {},
   "source": [
    "# Task 2 Missing Number Search\n",
    "\n",
    "## Problem statement\n",
    "\n",
    "Construct a function that takes in as input a (possibly unstructured) vector of distinct positive integers of size $2^n - 1$ from among the first $2^n$ positive integers, which is missing a number, and searches for, and outputs, the missing number using a quantum circuit. If possible, consider printing your quantum circuit constructed within the function.\n",
    "\n",
    "\n",
    "### Example usage\n",
    "\n",
    "A =  missing_number(\\[2,0,1\\])\n",
    "\n",
    "print(A)\n",
    "\n",
    "3\n",
    "\n",
    "### Bonus\n",
    "\n",
    "Which is the largest list that can be implemented? Identify it and describe the result\n",
    "\n",
    "### References:\n",
    "\n",
    "* Deutsch, David, and Richard Jozsa. \"Rapid solution of problems by quantum computation.\" Proceedings of the Royal Society of London. Series A: Mathematical and Physical Sciences 439.1907 (1992): 553-558. https://royalsocietypublishing.org/doi/epdf/10.1098/rspa.1992.0167\n",
    "\n",
    "* Bernstein, Ethan, and Umesh Vazirani. \"Quantum complexity theory.\" SIAM Journal on computing 26.5 (1997): 1411-1473. https://people.eecs.berkeley.edu/~vazirani/s07quantum/notes/lec5/lecture5.pdf\n",
    "\n",
    "* Grover, Lov K. , \"A fast quantum mechanical algorithm for database search\", Proceedings of the 28th Annual ACM Symposium on the Theory of Computing (1996), arXiv:quant-ph/9605043 https://arxiv.org/pdf/quant-ph/9605043.pdf\n",
    "\n",
    "I profusely apologize in advance for committing the cardinal sin of using direct links to the PDFs in references. I do not regret it in the slightest. If you have an objection to this... FIGHT ME :("
   ]
  },
  {
   "cell_type": "code",
   "execution_count": 21,
   "id": "87abbe75",
   "metadata": {},
   "outputs": [],
   "source": [
    "from typing import Union, Iterable\n",
    "import tequila as tq\n",
    "import numpy as np"
   ]
  },
  {
   "cell_type": "code",
   "execution_count": 19,
   "id": "63d8b136",
   "metadata": {},
   "outputs": [],
   "source": [
    "def missing_number(input_vector: Union[list, Iterable, str]) -> int:\n",
    "    \"\"\"\n",
    "    Inputs:\n",
    "         input_vector: list, array or string that contain positive integer values of size 2^n -1, \n",
    "                         which is missing a number to obtain all the first 2^n positive integers \n",
    "    Output:\n",
    "        the positive integer value that is missing in the input\n",
    "    \"\"\"\n",
    "    # use a framework that works with quantum circuits, qiskit, cirq, pennylane, etc. \n",
    "\n",
    "    # define a quantum circuit to convert the vector in a quantum circuit\n",
    "    # define an oracle to find the missing value\n",
    "    # encoding the output value in an integer value\n",
    "    \n",
    "    return 0"
   ]
  },
  {
   "cell_type": "code",
   "execution_count": null,
   "id": "8e54f6a0",
   "metadata": {},
   "outputs": [],
   "source": []
  },
  {
   "cell_type": "code",
   "execution_count": null,
   "id": "87a502a0",
   "metadata": {},
   "outputs": [],
   "source": []
  },
  {
   "cell_type": "code",
   "execution_count": null,
   "id": "6166f32b",
   "metadata": {},
   "outputs": [],
   "source": []
  },
  {
   "cell_type": "code",
   "execution_count": null,
   "id": "5e1bca2f",
   "metadata": {},
   "outputs": [],
   "source": []
  },
  {
   "cell_type": "code",
   "execution_count": null,
   "id": "ee1a2db1",
   "metadata": {},
   "outputs": [],
   "source": []
  },
  {
   "cell_type": "code",
   "execution_count": null,
   "id": "7d6af153",
   "metadata": {},
   "outputs": [],
   "source": []
  },
  {
   "cell_type": "code",
   "execution_count": null,
   "id": "f5a956c3",
   "metadata": {},
   "outputs": [],
   "source": []
  },
  {
   "cell_type": "code",
   "execution_count": null,
   "id": "f0d1c4a9",
   "metadata": {},
   "outputs": [],
   "source": []
  },
  {
   "cell_type": "code",
   "execution_count": null,
   "id": "1ec4ccbf",
   "metadata": {},
   "outputs": [],
   "source": []
  },
  {
   "cell_type": "code",
   "execution_count": null,
   "id": "0ab1d401",
   "metadata": {},
   "outputs": [],
   "source": []
  },
  {
   "cell_type": "code",
   "execution_count": null,
   "id": "e4b5c9a8",
   "metadata": {},
   "outputs": [],
   "source": []
  },
  {
   "cell_type": "code",
   "execution_count": null,
   "id": "77b7d2a6",
   "metadata": {},
   "outputs": [],
   "source": []
  }
 ],
 "metadata": {
  "kernelspec": {
   "display_name": "Python 3 (ipykernel)",
   "language": "python",
   "name": "python3"
  },
  "language_info": {
   "codemirror_mode": {
    "name": "ipython",
    "version": 3
   },
   "file_extension": ".py",
   "mimetype": "text/x-python",
   "name": "python",
   "nbconvert_exporter": "python",
   "pygments_lexer": "ipython3",
   "version": "3.9.12"
  }
 },
 "nbformat": 4,
 "nbformat_minor": 5
}
