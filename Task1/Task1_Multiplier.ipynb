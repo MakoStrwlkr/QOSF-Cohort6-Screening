{
 "cells": [
  {
   "cell_type": "markdown",
   "id": "0928a945",
   "metadata": {},
   "source": [
    "# Task 1 Multiplier\n",
    "\n",
    "## Problem statement\n",
    "\n",
    "In this task, we wish to make a multiplier quantum circuit. For this, we design the input to be two positive integers to a function which will process a quantum algorithm that makes the multiplier (see Draper adder) and returns the result in an integer.\n",
    "\n",
    "You cannot use any implementation already designed by the framework. If possible, consider printing out your quantum circuit.\n",
    "\n",
    "### Example usage\n",
    "\n",
    "A = multiplier(5,6)\n",
    "\n",
    "print(A)\n",
    "\n",
    "30\n",
    "\n",
    "### Bonus\n",
    "\n",
    "Use your proposal to design different inputs, and check the limitations of your simulator and framework, consider number of qubits, time of execution, the depth of the quantum circuit and number of the gates.\n",
    "\n",
    "\n",
    "### References\n",
    "\n",
    "* Addition on a Quantum Computer\n",
    "https://arxiv.org/pdf/quant-ph/0008033.pdf \n",
    "\n",
    "* T-count Optimized Design of Quantum Integer Multiplication  \n",
    "https://arxiv.org/pdf/1706.05113.pdf \n",
    "\n",
    "* Quantum arithmetic with the Quantum Fourier Transform \n",
    "https://arxiv.org/pdf/1411.5949.pdf"
   ]
  },
  {
   "cell_type": "markdown",
   "id": "35efd4e2",
   "metadata": {},
   "source": [
    "## Import statements\n",
    "\n",
    "The following block is to contain all necessary import statements for this notebook. Run it before running any other code cell."
   ]
  },
  {
   "cell_type": "code",
   "execution_count": 166,
   "id": "f10145f4",
   "metadata": {},
   "outputs": [],
   "source": [
    "import tequila as tq\n",
    "import numpy as np\n",
    "from numpy import binary_repr as binrep\n",
    "from numpy import ceil, log2, pi, floor\n",
    "from typing import Union"
   ]
  },
  {
   "cell_type": "markdown",
   "id": "acc7e7a1",
   "metadata": {},
   "source": [
    "## QFT Review\n",
    "\n",
    "TODO: a review of what QFT does\n",
    "\n",
    "Consider a system of $n$ qubits in the computational basis $\\{\\left| j \\right\\rangle: j\\in [N]\\}$ with $N=2^n$. Then, the QFT operation is a linear map such that, for any computational basis state $\\left| x\\right\\rangle$, we have\n",
    "$$QFT\\left| x\\right\\rangle = \\frac1{\\sqrt{N}} \\sum_{j\\in [N]} e^{i\\frac{2\\pi x j}{N}} \\left| j\\right\\rangle.$$\n",
    "The QFT operation can be implemented explicitly in a quantum circuit using $\\mathcal{O}(n^2)$ quantum gates (using only Hadamard, and controlled phase gates), as follows."
   ]
  },
  {
   "cell_type": "code",
   "execution_count": 129,
   "id": "af2dae49",
   "metadata": {},
   "outputs": [],
   "source": [
    "def qft(bits: Union[int, list[int]]) -> tq.QCircuit:\n",
    "    \"\"\"\n",
    "    Returns a circuit implementing QFT on n qubits, where n = len(bits)\n",
    "    \n",
    "    The list of bits is ordered in decreasing priority of bits, i.e. with the MSB as bits[0]\n",
    "    \"\"\"\n",
    "    circ = tq.QCircuit()\n",
    "    if isinstance(bits, int):\n",
    "        n, bits = bits, list(range(bits))\n",
    "    else:\n",
    "        n = len(bits)\n",
    "    \n",
    "    for i in range(n-1):\n",
    "        circ += tq.gates.H(bits[i])\n",
    "        for j in range(i+1, n):\n",
    "            m = j - i\n",
    "            phi = pi / (2 ** m)\n",
    "            circ += tq.gates.Phase(target=bits[i], control=bits[j], angle=phi)\n",
    "    circ += tq.gates.H(bits[-1])\n",
    "    \n",
    "    return circ\n",
    "\n",
    "\n",
    "def qft1(n_bits: int) -> tq.QCircuit:\n",
    "    \"\"\"\n",
    "    Less general implementation of QFT used for multiplier\n",
    "    \"\"\"\n",
    "    circ = tq.QCircuit()\n",
    "    for i in range(n_bits):\n",
    "        circ += tq.gates.H(n_bits + i)\n",
    "        for c in range(i + 1, n_bits):\n",
    "            circ += tq.gates.Phase(target=n_bits+i, control=n_bits+c, angle=pi/(2**(c-i)))\n",
    "    circ += tq.gates.H(2 * n_bits - 1)\n",
    "    \n",
    "    return circ"
   ]
  },
  {
   "cell_type": "code",
   "execution_count": 136,
   "id": "8222a217",
   "metadata": {},
   "outputs": [
    {
     "name": "stdout",
     "output_type": "stream",
     "text": [
      "circuit: \n",
      "H(target=(3,))\n",
      "Phase(target=(3,), control=(4,), parameter=1.5707963267948966)\n",
      "Phase(target=(3,), control=(5,), parameter=0.7853981633974483)\n",
      "H(target=(4,))\n",
      "Phase(target=(4,), control=(5,), parameter=1.5707963267948966)\n",
      "H(target=(5,))\n",
      "H(target=(5,))\n",
      "\n",
      "                    ┌──┐\n",
      "0: ───H─────────S────T─────────────────────\n",
      "                │    │\n",
      "1: ───T─────────@────┼H────────S───────────\n",
      "                     │         │\n",
      "2: ───Z^(1/8)────────@─────T───@───H───H───\n",
      "                    └──┘\n"
     ]
    },
    {
     "data": {
      "text/plain": [
       "''"
      ]
     },
     "execution_count": 136,
     "metadata": {},
     "output_type": "execute_result"
    }
   ],
   "source": [
    "n=3\n",
    "print(qft1(n))\n",
    "tq.draw(qft1(n))"
   ]
  },
  {
   "cell_type": "markdown",
   "id": "10fa383a",
   "metadata": {},
   "source": [
    "## Aside: Phase gates in Tequila\n",
    "\n",
    "I used the tq.gates.Phase(...) gate to implement the gate given by\n",
    "$$ R_l = \\begin{bmatrix} 1 & 0 \\\\ 0 & e^{2\\pi i / 2^l} \\end{bmatrix} $$"
   ]
  },
  {
   "cell_type": "code",
   "execution_count": null,
   "id": "f73b33b8",
   "metadata": {},
   "outputs": [],
   "source": []
  },
  {
   "cell_type": "markdown",
   "id": "eec2795e",
   "metadata": {},
   "source": [
    "## QFT Adder\n",
    "\n",
    "TODO: a review of implementing a Draper adder using QFT, using reference (3)\n",
    "\n",
    "We use this adder to implement the multiplier given below."
   ]
  },
  {
   "cell_type": "code",
   "execution_count": 291,
   "id": "0afd10f6",
   "metadata": {},
   "outputs": [],
   "source": [
    "def qft_ancilla(bits: Union[int, list[int]], anc: int) -> tq.QCircuit:\n",
    "    \"\"\"\n",
    "    Returns a circuit implementing QFT on (n+1) qubits, using 1 ancillary qubit, viz. anc, where n = len(bits)\n",
    "    \n",
    "    Preconditions:\n",
    "        - if isinstance(bits, list): anc not in bits\n",
    "    \"\"\"\n",
    "    if isinstance(bits, int):\n",
    "        n, bits = bits, list(range(bits))\n",
    "    else:\n",
    "        n = len(bits)\n",
    "    \n",
    "    bits[:0], circ = [anc], tq.QCircuit()\n",
    "    for i in range(len(bits)):\n",
    "        circ += tq.gates.H(target=bits[i])\n",
    "        for k in range(i+1, len(bits)):\n",
    "            circ += tq.gates.Phase(target=bits[i], control=bits[k], angle=pi/(2**(k-i)))\n",
    "#     circ += tq.gates.H(target=bits[-1])\n",
    "    return circ  \n",
    "\n",
    "\n",
    "def adder(n1: int, n2: int, verbose: bool = False) -> tuple[tq.QCircuit, int]:\n",
    "    \"\"\"\n",
    "    Returns a circuit implementing a QFT adder to add two integers $n_1$ and $n_2$, and the sum $n_1 + n_2$\n",
    "    \"\"\"\n",
    "    circ = tq.QCircuit()\n",
    "    \n",
    "    # initialize variables\n",
    "    bin1, bin2 = binrep(n1), binrep(n2)\n",
    "    n1_bits, n2_bits = int(floor(log2(n1)+1)), int(floor(log2(n2)+1))\n",
    "    bin1, bin2 = '0' * (max(n1_bits, n2_bits) - n1_bits) + bin1, '0' * (max(n1_bits, n2_bits) - n2_bits) + bin2\n",
    "    n_bits, n1_bits, n2_bits = 2 * max(n1_bits, n2_bits), max(n1_bits, n2_bits), max(n1_bits, n2_bits)\n",
    "    if verbose:\n",
    "        print(bin1, bin2)\n",
    "    \n",
    "    # prepare n1 and n2 in comp basis (first n_bits qubits is n1, second n_bits qubits is n2)\n",
    "    # bit encoding\n",
    "    for i in range(n1_bits):\n",
    "        circ += tq.gates.X(target=i)\n",
    "        if bin1[i] == '0':\n",
    "            circ += tq.gates.X(target=i)\n",
    "    for i in range(n2_bits):\n",
    "        circ += tq.gates.X(target=n1_bits+i)\n",
    "        if bin2[i] == '0':\n",
    "            circ += tq.gates.X(target=n1_bits+i)\n",
    "    \n",
    "    # prepare QFT(n2 + 0)\n",
    "    circ += qft_ancilla(bits=list(range(n1_bits, n_bits)), anc=n_bits)\n",
    "    \n",
    "    # reverse ordering for controlled phase, as shown in reference\n",
    "    mapping = {}\n",
    "    for i in range((n2_bits) // 2):\n",
    "        circ += tq.gates.SWAP(first=n1_bits+i, second=n_bits-i-1)\n",
    "#         if (n1_bits + i != n_bits - i - 1):\n",
    "#             mapping.update({n1_bits + i: n_bits - i - 1})\n",
    "#     print(mapping)\n",
    "#     circ = circ.map_qubits(mapping)\n",
    "    \n",
    "    # iterate through, and add controlled phase gates\n",
    "    for i in range(n1_bits):\n",
    "        circ += tq.gates.Phase(control=i, target=n1_bits, angle=pi/(2**(i+1)))\n",
    "    for i in range(1, n2_bits + 1):\n",
    "        for j in range(i-1, n1_bits):\n",
    "            circ += tq.gates.Phase(control=j, target=n1_bits+i, angle=pi/(2**(j-i+1)))\n",
    "    \n",
    "    # undo the SWAP, to prepare for inverse QFT\n",
    "    for i in range((n2_bits) // 2):\n",
    "        circ += tq.gates.SWAP(first=n1_bits+i, second=n_bits-i-1)\n",
    "    \n",
    "    # inverse QFT\n",
    "    circ += qft_ancilla(bits=list(range(n1_bits, n_bits)), anc=n_bits).dagger()\n",
    "    \n",
    "#     for i in range((n2_bits + 1) // 2):\n",
    "#         circ += tq.gates.SWAP(first=n1_bits+i, second=n_bits-i)\n",
    "    \n",
    "    wfn = tq.simulate(circ)\n",
    "    if verbose:\n",
    "        print(wfn)\n",
    "    val = wfn.keys()\n",
    "    for k in val:\n",
    "        val = k.integer\n",
    "        break\n",
    "    val -= n1 * 2**(n2_bits + 1)\n",
    "    if verbose:\n",
    "        print(n1 * 2**(n2_bits + 1), val)\n",
    "    return (circ, val)"
   ]
  },
  {
   "cell_type": "code",
   "execution_count": 293,
   "id": "f52c515c",
   "metadata": {},
   "outputs": [
    {
     "name": "stdout",
     "output_type": "stream",
     "text": [
      "11 11\n",
      "+0.3536e^(-0.8125πi)|11100> +0.1913e^(+0.0625πi)|11010> +0.8536e^(-0.3125πi)|11101> +0.1913e^(+0.5625πi)|11011> +0.2706e^(-0.1875πi)|11111> \n",
      "24 4\n"
     ]
    },
    {
     "data": {
      "text/plain": [
       "(circuit: \n",
       " X(target=(0,))\n",
       " X(target=(1,))\n",
       " X(target=(2,))\n",
       " X(target=(3,))\n",
       " H(target=(4,))\n",
       " Phase(target=(4,), control=(2,), parameter=1.5707963267948966)\n",
       " Phase(target=(4,), control=(3,), parameter=0.7853981633974483)\n",
       " H(target=(2,))\n",
       " Phase(target=(2,), control=(3,), parameter=1.5707963267948966)\n",
       " H(target=(3,))\n",
       " SWAP(target=(2, 3), control=())\n",
       " Phase(target=(2,), control=(0,), parameter=1.5707963267948966)\n",
       " Phase(target=(2,), control=(1,), parameter=0.7853981633974483)\n",
       " Phase(target=(3,), control=(0,), parameter=3.141592653589793)\n",
       " Phase(target=(3,), control=(1,), parameter=1.5707963267948966)\n",
       " Phase(target=(4,), control=(1,), parameter=3.141592653589793)\n",
       " SWAP(target=(2, 3), control=())\n",
       " H(target=(3,))\n",
       " Phase(target=(2,), control=(3,), parameter=-1.5707963267948966)\n",
       " H(target=(2,))\n",
       " Phase(target=(4,), control=(3,), parameter=-0.7853981633974483)\n",
       " Phase(target=(4,), control=(2,), parameter=-1.5707963267948966)\n",
       " H(target=(4,)),\n",
       " 4)"
      ]
     },
     "execution_count": 293,
     "metadata": {},
     "output_type": "execute_result"
    }
   ],
   "source": [
    "adder(3, 3, verbose=True)"
   ]
  },
  {
   "cell_type": "markdown",
   "id": "41d375a5",
   "metadata": {},
   "source": [
    "## QFT Multiplier\n",
    "\n",
    "An attempt at direct translation of the algorithm from reference (3)"
   ]
  },
  {
   "cell_type": "code",
   "execution_count": 296,
   "id": "939b8f92",
   "metadata": {},
   "outputs": [],
   "source": [
    "def multiplier(num1: int, num2: int, verbose: bool = False) -> int:\n",
    "    \"\"\"\n",
    "    Inputs:\n",
    "        num1 : integer positive value that is the first parameter to the multiplier function,\n",
    "        num2 : integer positive value that is the second parameter to the multiplier function.\n",
    "    \n",
    "    Preconditions:\n",
    "        num1 > 0\n",
    "        num2 > 0\n",
    "    \n",
    "    Output:\n",
    "        the positive integer value of the multiplication between number_1 and number_2\n",
    "     \"\"\"\n",
    "\n",
    "    # initialize variables\n",
    "    bin1, bin2 = binrep(num1), binrep(num2)\n",
    "    n1_bits, n2_bits = int(floor(log2(num1)+1)), int(floor(log2(num2)+1))\n",
    "    bin1, bin2 = '0' * (max(n1_bits, n2_bits) - n1_bits) + bin1, '0' * (max(n1_bits, n2_bits) - n2_bits) + bin2\n",
    "    n_bits, n1_bits, n2_bits = 2 * max(n1_bits, n2_bits), max(n1_bits, n2_bits), max(n1_bits, n2_bits)\n",
    "    print(bin1, bin2)\n",
    "    \n",
    "    circ = tq.QCircuit()    # initialize circuit\n",
    "    \n",
    "    # bit encoding\n",
    "    for i in range(n1_bits):\n",
    "        circ += tq.gates.X(target=i)\n",
    "        print(i)\n",
    "        if bin1[i] == '0':\n",
    "            circ += tq.gates.X(target=i)\n",
    "    for i in range(n2_bits):\n",
    "        circ += tq.gates.X(target=n1_bits+i)\n",
    "        if bin2[i] == '0':\n",
    "            circ += tq.gates.X(target=n1_bits+i)\n",
    "    \n",
    "    tq.draw(circ, backend='qiskit')\n",
    "    \n",
    "    # QFT on output register    \n",
    "    mapping = {j : n_bits + j for j in range(n_bits)}\n",
    "    circ += qft(n_bits).map_qubits(mapping)\n",
    "#     tq.draw(circ)\n",
    "    \n",
    "    # Controlled rotations\n",
    "    for i in range(n1_bits):  # iterate over bits of bin1\n",
    "        for k in range(n2_bits):  # iterate over bits of bin2\n",
    "            circ += tq.gates.Rz(control=[n1_bits + i + k, n1_bits - i - 1], target=n_bits+i, angle=pi/2**(k+1))\n",
    "            \n",
    "        for k in range(n1_bits): # iterate over bits of bin1\n",
    "            for m in range(n1_bits - k): # iterate over remaining bits\n",
    "                circ += tq.gates.Rz(angle=pi/(2**m), control=[n1_bits + k + m, n1_bits - i - 1], target=2*n1_bits+i+k+1)\n",
    "    \n",
    "    # Inverse QFT on output register    \n",
    "    circ += qft(n_bits).map_qubits(mapping).dagger()\n",
    "    \n",
    "    wfn = tq.simulate(circ)\n",
    "#     print(wfn.items())\n",
    "    extra = num1 * ( 2**(n_bits + n2_bits) ) + num2 * ( 2**(n_bits) )\n",
    "    m, n = 0, None\n",
    "    \n",
    "    # Ideally, this would give back a single computational basis state, \n",
    "    # but my code has a bug, and we get back multiple comp basis states...\n",
    "    for k in wfn.keys():\n",
    "        print(k.integer - extra)\n",
    "        if np.linalg.norm(wfn.state[k]) > m:\n",
    "            n, m = k.integer - extra, np.linalg.norm(wfn.state[k])\n",
    "    print(n)\n",
    "    \n",
    "    return n # the result of the quantum circuit into an integer value"
   ]
  },
  {
   "cell_type": "code",
   "execution_count": 297,
   "id": "6778faeb",
   "metadata": {},
   "outputs": [
    {
     "name": "stdout",
     "output_type": "stream",
     "text": [
      "0100 1000\n",
      "0\n",
      "1\n",
      "2\n",
      "3\n",
      "16\n",
      "144\n",
      "80\n",
      "208\n",
      "48\n",
      "176\n",
      "112\n",
      "240\n",
      "16\n"
     ]
    },
    {
     "data": {
      "text/plain": [
       "16"
      ]
     },
     "execution_count": 297,
     "metadata": {},
     "output_type": "execute_result"
    }
   ],
   "source": [
    "multiplier(4,8)"
   ]
  },
  {
   "cell_type": "code",
   "execution_count": 202,
   "id": "763aea49",
   "metadata": {},
   "outputs": [
    {
     "name": "stdout",
     "output_type": "stream",
     "text": [
      "960\n",
      "[0, 1, 2, 3]\n"
     ]
    }
   ],
   "source": [
    "print(3 * (2**(3+5)) + 6 * (2**5))\n",
    "l = [1,2,3]\n",
    "l[:0] = [0]\n",
    "print(l)"
   ]
  },
  {
   "cell_type": "markdown",
   "id": "0752e611",
   "metadata": {},
   "source": [
    "## Discussion\n",
    "\n",
    "I was not able to complete the task properly, partly because I could not understand where the bug in my code is. I believe that I translated over everything from the reference used into code, so I am comfortable with the algorithm (and, after several sleepless nights of bug-digging, I think I know the algorithm well enough to recite it while half-asleep). I believe the fault lies in some way in which I misinterpreted how Tequila implements its gates.\n",
    "\n",
    "Nevertheless, here I will try giving an asymptotic analysis of my code's running time and memory usage.\n",
    "\n",
    "First, we use $2n$ bits to encode the numbers $n_1$ and $n_2$ using a binary bit encoding, where we explicitly define $n=\\max\\{\\lfloor\\log(n_1)+1\\rfloor,\\lfloor\\log(n_2)+1\\rfloor\\}$ to avoid any confusion between quasi-polynomial and polynomial scaling. Next, the QFT and inverse QFT at the beginning and end of the multiplication routine require $\\mathcal{O}(n^2)$ elementary operations. It is straightforward to observe that the controlled phase rotations in between the QFT subroutines take an additional $\\mathcal{O}(n^3)$ elementary operations. So, overall, this implementation requires $\\mathcal{O}(n^3)$ operations. We used $\\mathcal{O}(n)$ ancillary qubits, and the depth of circuit was $\\mathcal{O}(n^3)$.\n",
    "\n",
    "The way in which Tequila parsed $R_Z$ and Phase gates was tedious because it compiles them into $R_X$ and $H$ gates which made it difficult to debug. I tried translating everything into QFT as a last-minute decision, and have included what I managed to write in a separate Python file.\n",
    "\n",
    "As an alternative implementation, we could use a tradeoff between time and space by using a unary encoding, or do something very naive and use gray-code encoding and repetitive addition with decrementing one register after each successive addition."
   ]
  }
 ],
 "metadata": {
  "kernelspec": {
   "display_name": "Python 3 (ipykernel)",
   "language": "python",
   "name": "python3"
  },
  "language_info": {
   "codemirror_mode": {
    "name": "ipython",
    "version": 3
   },
   "file_extension": ".py",
   "mimetype": "text/x-python",
   "name": "python",
   "nbconvert_exporter": "python",
   "pygments_lexer": "ipython3",
   "version": "3.9.12"
  }
 },
 "nbformat": 4,
 "nbformat_minor": 5
}
