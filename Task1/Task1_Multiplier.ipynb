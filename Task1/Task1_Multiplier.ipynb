{
 "cells": [
  {
   "cell_type": "markdown",
   "id": "0928a945",
   "metadata": {},
   "source": [
    "# Task 1 Multiplier\n",
    "\n",
    "## Problem statement\n",
    "\n",
    "In this task, we wish to make a multiplier quantum circuit. For this, we design the input to be two positive integers to a function which will process a quantum algorithm that makes the multiplier (see Draper adder) and returns the result in an integer.\n",
    "\n",
    "You cannot use any implementation already designed by the framework. If possible, consider printing out your quantum circuit.\n",
    "\n",
    "### Example usage\n",
    "\n",
    "A = multiplier(5,6)\n",
    "\n",
    "print(A)\n",
    "\n",
    "30\n",
    "\n",
    "### Bonus\n",
    "\n",
    "Use your proposal to design different inputs, and check the limitations of your simulator and framework, consider number of qubits, time of execution, the depth of the quantum circuit and number of the gates.\n",
    "\n",
    "\n",
    "### References\n",
    "\n",
    "* Addition on a Quantum Computer\n",
    "https://arxiv.org/pdf/quant-ph/0008033.pdf \n",
    "\n",
    "* T-count Optimized Design of Quantum Integer Multiplication  \n",
    "https://arxiv.org/pdf/1706.05113.pdf \n",
    "\n",
    "* Quantum arithmetic with the Quantum Fourier Transform \n",
    "https://arxiv.org/pdf/1411.5949.pdf"
   ]
  },
  {
   "cell_type": "markdown",
   "id": "35efd4e2",
   "metadata": {},
   "source": [
    "## Import statements\n",
    "\n",
    "The following block is to contain all necessary import statements for this notebook. Run it before running any other code cell."
   ]
  },
  {
   "cell_type": "code",
   "execution_count": 1,
   "id": "f10145f4",
   "metadata": {},
   "outputs": [],
   "source": [
    "import tequila as tq\n",
    "# import numpy as np\n",
    "from numpy import binary_repr as binrep\n",
    "from numpy import ceil, log2, pi\n",
    "from typing import Union"
   ]
  },
  {
   "cell_type": "markdown",
   "id": "acc7e7a1",
   "metadata": {},
   "source": [
    "## QFT Review\n",
    "\n",
    "TODO: a review of what QFT does\n",
    "\n",
    "Consider a system of $n$ qubits in the computational basis $\\{\\left| j \\right\\rangle: j\\in [N]\\}$ with $N=2^n$. Then, the QFT operation is a linear map such that, for any computational basis state $\\left| x\\right\\rangle$, we have\n",
    "$$QFT\\left| x\\right\\rangle = \\frac1{\\sqrt{N}} \\sum_{j\\in [N]} e^{i\\frac{2\\pi x j}{N}} \\left| j\\right\\rangle.$$\n",
    "The QFT operation can be implemented explicitly in a quantum circuit using $\\mathcal{O}(n^2)$ quantum gates (using only Hadamard, and controlled phase gates), as follows."
   ]
  },
  {
   "cell_type": "code",
   "execution_count": 2,
   "id": "af2dae49",
   "metadata": {},
   "outputs": [],
   "source": [
    "def qft(bits: Union[int, list[int]]) -> tq.QCircuit:\n",
    "    \"\"\"\n",
    "    Returns a circuit implementing QFT on n qubits, where n = len(bits)\n",
    "    \n",
    "    The list of bits is ordered in decreasing priority of bits, i.e. with the MSB as bits[0]\n",
    "    \"\"\"\n",
    "    circ = tq.QCircuit()\n",
    "    if isinstance(bits, int):\n",
    "        n, bits = bits, list(range(bits))\n",
    "    else:\n",
    "        n = len(bits)\n",
    "    \n",
    "    for i in range(n-1):\n",
    "        circ += tq.gates.H(bits[i])\n",
    "        for j in range(i+1, n):\n",
    "            m = j - i + 1\n",
    "            phi = 2 * pi / (2 ** m)\n",
    "            circ += tq.gates.Phase(target=bits[i], control=bits[j], angle=phi)\n",
    "    circ += tq.gates.H(bits[-1])\n",
    "    \n",
    "    return circ"
   ]
  },
  {
   "cell_type": "code",
   "execution_count": 3,
   "id": "8222a217",
   "metadata": {},
   "outputs": [
    {
     "name": "stdout",
     "output_type": "stream",
     "text": [
      "                     ┌──┐   ┌────────┐             ┌──┐\n",
      "0: ───H──────────S────T──────Z^(1/8)──────────────────────────────────\n",
      "                 │    │      │\n",
      "1: ───T──────────@────┼H─────┼───────────S──────────T─────────────────\n",
      "                      │      │           │          │\n",
      "2: ───Z^(1/8)─────────@──────┼──────T────@──────────┼H────────S───────\n",
      "                             │                      │         │\n",
      "3: ───Z^(1/16)───────────────@───────────Z^(1/8)────@─────T───@───H───\n",
      "                     └──┘   └────────┘             └──┘\n",
      "circuit: \n",
      "H(target=(0,))\n",
      "Phase(target=(0,), control=(1,), parameter=1.5707963267948966)\n",
      "Phase(target=(0,), control=(2,), parameter=0.7853981633974483)\n",
      "Phase(target=(0,), control=(3,), parameter=0.39269908169872414)\n",
      "H(target=(1,))\n",
      "Phase(target=(1,), control=(2,), parameter=1.5707963267948966)\n",
      "Phase(target=(1,), control=(3,), parameter=0.7853981633974483)\n",
      "H(target=(2,))\n",
      "Phase(target=(2,), control=(3,), parameter=1.5707963267948966)\n",
      "H(target=(3,))\n",
      "\n"
     ]
    }
   ],
   "source": [
    "def test_qft():\n",
    "    tq.draw(qft(4))\n",
    "\n",
    "test_qft()\n",
    "print(qft(4))"
   ]
  },
  {
   "cell_type": "markdown",
   "id": "eec2795e",
   "metadata": {},
   "source": [
    "## QFT Adder\n",
    "\n",
    "TODO: a review of implementing a Draper adder using QFT"
   ]
  },
  {
   "cell_type": "code",
   "execution_count": 4,
   "id": "0afd10f6",
   "metadata": {},
   "outputs": [],
   "source": [
    "def qft_ancilla(bits: Union[int, list[int]], anc: int) -> tq.QCircuit:\n",
    "    \"\"\"\n",
    "    Returns a circuit implementing QFT on (n+1) qubits, using 1 ancillary qubit, viz. anc, where n = len(bits)\n",
    "    \n",
    "    Preconditions:\n",
    "        - if isinstance(bits, list): anc not in bits\n",
    "    \"\"\"\n",
    "    if isinstance(bits, int):\n",
    "        n, bits = bits, list(range(bits))\n",
    "    else:\n",
    "        n = len(bits)\n",
    "    \n",
    "    bits[:0] = [anc]\n",
    "    \n",
    "    return qft(bits)\n",
    "\n",
    "\n",
    "def adder(n1: int, n2: int) -> tuple[tq.QCircuit, int]:\n",
    "    \"\"\"\n",
    "    Returns a circuit implementing a QFT adder to add two integers $n_1$ and $n_2$, and the sum $n_1 + n_2$\n",
    "    \"\"\"\n",
    "    circ = tq.QCircuit()\n",
    "    \n",
    "    # initialize variables\n",
    "    bin1, bin2 = binrep(n1), binrep(n2)\n",
    "    num_bits1, num_bits2 = int(ceil(log2(n1))), int(ceil(log2(n2)))\n",
    "    n_bits = max(num_bits1, num_bits2)\n",
    "    bin1, bin2 = '0' * (n_bits - len(bin1)) + bin1, '0' * (n_bits - len(bin2)) + bin2\n",
    "    \n",
    "    # prepare n1 and n2 in comp basis (first n_bits qubits is n1, second n_bits qubits is n2)\n",
    "    for i in range(n_bits):\n",
    "        if bin1[i] == '1':\n",
    "            circ += tq.gates.X(i)\n",
    "        if bin2[i] == '1':\n",
    "            circ += tq.gates.X(n_bits + i)\n",
    "    \n",
    "    # prepare QFT(n2 + 0)\n",
    "    circ += qft_ancilla(list(range(n_bits, 2 * n_bits)), 2 * n_bits)\n",
    "    \n",
    "    # iterate through, and add controlled phase gates\n",
    "    for i in range(n_bits):\n",
    "        ...\n",
    "    \n",
    "    for i in range(2 * n_bits - 1, n_bits - 1, -1):\n",
    "        for j in range(n_bits):\n",
    "            ...\n",
    "    \n",
    "    return circ"
   ]
  },
  {
   "cell_type": "code",
   "execution_count": 5,
   "id": "f52c515c",
   "metadata": {},
   "outputs": [],
   "source": [
    "def test_qft_ancilla():\n",
    "    qft_ancilla(4, 90)\n",
    "\n",
    "\n",
    "def test_adder():\n",
    "    adder(17, 8)\n",
    "\n",
    "\n",
    "test_qft_ancilla()\n",
    "test_adder()"
   ]
  },
  {
   "cell_type": "markdown",
   "id": "41d375a5",
   "metadata": {},
   "source": [
    "## QFT Multiplier\n"
   ]
  },
  {
   "cell_type": "code",
   "execution_count": 6,
   "id": "939b8f92",
   "metadata": {},
   "outputs": [],
   "source": [
    "def multiplier(num1: int, num2: int) -> int:\n",
    "    \"\"\"\n",
    "    Inputs:\n",
    "        number_1 : integer positive value that is the first parameter to the multiplier function,\n",
    "        number_2 : integer positive value that is the second parameter to the multiplier function.\n",
    "    \n",
    "    Preconditions:\n",
    "        number_1 > 0\n",
    "        number_2 > 0\n",
    "    \n",
    "    Output:\n",
    "        the positive integer value of the multiplication between number_1 and number_2\n",
    "     \"\"\"\n",
    "\n",
    "    # initialize variables\n",
    "    bin1, bin2 = binrep(num1), binrep(num2)\n",
    "    num_bits1, num_bits2 = int(ceil(log(num1))), int(ceil(log(num2)))\n",
    "    \n",
    "    circ = tq.QCircuit()    # initialize circuit\n",
    "    \n",
    "    return 0 # the result of the quantum circuit into an integer value"
   ]
  },
  {
   "cell_type": "code",
   "execution_count": 7,
   "id": "b9172b95",
   "metadata": {},
   "outputs": [
    {
     "name": "stdout",
     "output_type": "stream",
     "text": [
      "[2, 3]\n"
     ]
    }
   ],
   "source": [
    "print(list(range(2, 2 * 2)))"
   ]
  }
 ],
 "metadata": {
  "kernelspec": {
   "display_name": "Python 3 (ipykernel)",
   "language": "python",
   "name": "python3"
  },
  "language_info": {
   "codemirror_mode": {
    "name": "ipython",
    "version": 3
   },
   "file_extension": ".py",
   "mimetype": "text/x-python",
   "name": "python",
   "nbconvert_exporter": "python",
   "pygments_lexer": "ipython3",
   "version": "3.9.12"
  }
 },
 "nbformat": 4,
 "nbformat_minor": 5
}
