{
 "cells": [
  {
   "cell_type": "markdown",
   "id": "cc177071",
   "metadata": {},
   "source": [
    "# Task 1 Multiplier\n",
    "\n",
    "## Problem statement\n",
    "\n",
    "In this task, we wish to make a multiplier quantum circuit. For this, we design the input to be two positive integers to a function which will process a quantum algorithm that makes the multiplier (see Draper adder) and returns the result in an integer.\n",
    "\n",
    "You cannot use any implementation already designed by the framework. If possible, consider printing out your quantum circuit.\n",
    "\n",
    "### Example usage\n",
    "\n",
    "A = multiplier(5,6)\n",
    "\n",
    "print(A)\n",
    "\n",
    "30\n",
    "\n",
    "### Bonus\n",
    "\n",
    "Use your proposal to design different inputs, and check the limitations of your simulator and framework, consider number of qubits, time of execution, the depth of the quantum circuit and number of the gates.\n",
    "\n",
    "\n",
    "### References\n",
    "\n",
    "* Addition on a Quantum Computer\n",
    "https://arxiv.org/pdf/quant-ph/0008033.pdf \n",
    "\n",
    "* T-count Optimized Design of Quantum Integer Multiplication  \n",
    "https://arxiv.org/pdf/1706.05113.pdf \n",
    "\n",
    "* Quantum arithmetic with the Quantum Fourier Transform \n",
    "https://arxiv.org/pdf/1411.5949.pdf"
   ]
  },
  {
   "cell_type": "markdown",
   "id": "d050f09d",
   "metadata": {},
   "source": [
    "## Import statements\n",
    "\n",
    "The following block is to contain all necessary import statements for this notebook. Run it before running any other code cell."
   ]
  },
  {
   "cell_type": "code",
   "execution_count": 2,
   "id": "4d7eee79",
   "metadata": {},
   "outputs": [],
   "source": [
    "import tequila\n",
    "import numpy as np"
   ]
  },
  {
   "cell_type": "markdown",
   "id": "86fefb0f",
   "metadata": {},
   "source": [
    "## QFT Review\n"
   ]
  },
  {
   "cell_type": "markdown",
   "id": "ba15f29f",
   "metadata": {},
   "source": [
    "## QFT Adder\n"
   ]
  },
  {
   "cell_type": "markdown",
   "id": "c2ca5660",
   "metadata": {},
   "source": [
    "## QFT Multiplier\n"
   ]
  },
  {
   "cell_type": "code",
   "execution_count": 3,
   "id": "ee2c20f6",
   "metadata": {},
   "outputs": [],
   "source": [
    "def multiplier(num1: int, num2: int) -> int:\n",
    "    \"\"\"\n",
    "    Inputs:\n",
    "        number_1 : integer positive value that is the first parameter to the multiplier function,\n",
    "        number_2 : integer positive value that is the second parameter to the multiplier function.\n",
    "    \n",
    "    Preconditions:\n",
    "        number_1 > 0\n",
    "        number_2 > 0\n",
    "    \n",
    "    Output:\n",
    "        the positive integer value of the multiplication between number_1 and number_2\n",
    "     \"\"\"\n",
    "\n",
    "    # use a framework that works with quantum circuits, qiskit, cirq, pennylane, etc.\n",
    "    bin1 = np.binary_repr(num1)\n",
    "\n",
    "    # define a quantum circuit to convert the integer values in qubits, example bases encoding \n",
    "    # basis encoding: n bits are equals to a state of n qubits, example \n",
    "    # The integer value 3 convert to a binary string that is 11, the basis encoding is |11⟩\n",
    "     \n",
    "    # use the state of the art to check the possibles ways to design a multiplier\n",
    "    \n",
    "    return 0 # the result of the quantum circuit into an integer value"
   ]
  },
  {
   "cell_type": "code",
   "execution_count": null,
   "id": "0658e96a",
   "metadata": {},
   "outputs": [],
   "source": []
  },
  {
   "cell_type": "code",
   "execution_count": null,
   "id": "67b06337",
   "metadata": {},
   "outputs": [],
   "source": []
  },
  {
   "cell_type": "code",
   "execution_count": null,
   "id": "f043c482",
   "metadata": {},
   "outputs": [],
   "source": []
  },
  {
   "cell_type": "code",
   "execution_count": null,
   "id": "23a4ab19",
   "metadata": {},
   "outputs": [],
   "source": []
  },
  {
   "cell_type": "code",
   "execution_count": null,
   "id": "1a43263f",
   "metadata": {},
   "outputs": [],
   "source": []
  },
  {
   "cell_type": "code",
   "execution_count": null,
   "id": "1cd9f0aa",
   "metadata": {},
   "outputs": [],
   "source": []
  },
  {
   "cell_type": "code",
   "execution_count": null,
   "id": "e3f20083",
   "metadata": {},
   "outputs": [],
   "source": []
  },
  {
   "cell_type": "code",
   "execution_count": null,
   "id": "ca4ba287",
   "metadata": {},
   "outputs": [],
   "source": []
  },
  {
   "cell_type": "code",
   "execution_count": null,
   "id": "5fb84d31",
   "metadata": {},
   "outputs": [],
   "source": []
  },
  {
   "cell_type": "code",
   "execution_count": null,
   "id": "4ef5e1f8",
   "metadata": {},
   "outputs": [],
   "source": []
  },
  {
   "cell_type": "code",
   "execution_count": null,
   "id": "90c7a40b",
   "metadata": {},
   "outputs": [],
   "source": []
  },
  {
   "cell_type": "code",
   "execution_count": null,
   "id": "fcb27c5a",
   "metadata": {},
   "outputs": [],
   "source": []
  },
  {
   "cell_type": "code",
   "execution_count": null,
   "id": "f35db5f6",
   "metadata": {},
   "outputs": [],
   "source": []
  },
  {
   "cell_type": "code",
   "execution_count": null,
   "id": "24c21c2e",
   "metadata": {},
   "outputs": [],
   "source": []
  }
 ],
 "metadata": {
  "kernelspec": {
   "display_name": "Python 3 (ipykernel)",
   "language": "python",
   "name": "python3"
  },
  "language_info": {
   "codemirror_mode": {
    "name": "ipython",
    "version": 3
   },
   "file_extension": ".py",
   "mimetype": "text/x-python",
   "name": "python",
   "nbconvert_exporter": "python",
   "pygments_lexer": "ipython3",
   "version": "3.9.12"
  }
 },
 "nbformat": 4,
 "nbformat_minor": 5
}
