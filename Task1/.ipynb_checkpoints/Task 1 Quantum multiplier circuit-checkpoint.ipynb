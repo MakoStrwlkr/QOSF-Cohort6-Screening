{
 "cells": [
  {
   "cell_type": "markdown",
   "id": "8cd83ad1",
   "metadata": {},
   "source": [
    "# Task 1 Multiplier\n",
    "\n",
    "## Problem statement\n",
    "\n",
    "In this task, we wish to make a multiplier quantum circuit. For this, we design the input to be two positive integers to a function which will process a quantum algorithm that makes the multiplier (see Draper adder) and returns the result in an integer.\n",
    "\n",
    "You cannot use any implementation already designed by the framework. If possible, consider printing out your quantum circuit.\n",
    "\n",
    "### Example usage\n",
    "\n",
    "A = multiplier(5,6)\n",
    "\n",
    "print(A)\n",
    "\n",
    "30\n",
    "\n",
    "### Bonus\n",
    "\n",
    "Use your proposal to design different inputs, and check the limitations of your simulator and framework, consider number of qubits, time of execution, the depth of the quantum circuit and number of the gates.\n",
    "\n",
    "\n",
    "### References\n",
    "\n",
    "* Addition on a Quantum Computer\n",
    "https://arxiv.org/pdf/quant-ph/0008033.pdf \n",
    "\n",
    "* T-count Optimized Design of Quantum Integer Multiplication  \n",
    "https://arxiv.org/pdf/1706.05113.pdf \n",
    "\n",
    "* Quantum arithmetic with the Quantum Fourier Transform \n",
    "https://arxiv.org/pdf/1411.5949.pdf"
   ]
  },
  {
   "cell_type": "markdown",
   "id": "6dab876f",
   "metadata": {},
   "source": [
    "## Import statements\n",
    "\n",
    "The following block is to contain all necessary import statements for this notebook. Run it before running any other code cell."
   ]
  },
  {
   "cell_type": "code",
   "execution_count": 12,
   "id": "8390b9ad",
   "metadata": {},
   "outputs": [],
   "source": [
    "import tequila as tq\n",
    "import numpy as np\n",
    "from numpy import binary_repr as binrep\n",
    "from numpy import ceil, log2\n",
    "from typing import Union"
   ]
  },
  {
   "cell_type": "markdown",
   "id": "af7f126e",
   "metadata": {},
   "source": [
    "## QFT Review\n",
    "\n",
    "TODO: a review of what QFT does"
   ]
  },
  {
   "cell_type": "code",
   "execution_count": 14,
   "id": "ec0f917f",
   "metadata": {},
   "outputs": [],
   "source": [
    "def qft(n: int) -> tq.QCircuit:\n",
    "    \"\"\"\n",
    "    Returns a circuit implementing QFT on n qubits\n",
    "    \"\"\"\n",
    "    circ = tq.Qcircuit()\n",
    "    \n",
    "    return circ"
   ]
  },
  {
   "cell_type": "markdown",
   "id": "6cc68dff",
   "metadata": {},
   "source": [
    "## QFT Adder\n",
    "\n",
    "TODO: a review of implementing a Draper adder using QFT"
   ]
  },
  {
   "cell_type": "code",
   "execution_count": 15,
   "id": "29904391",
   "metadata": {},
   "outputs": [],
   "source": [
    "def qft_ancilla(n: int, anc: Union[str, int]) -> tq.QCircuit:\n",
    "    \"\"\"\n",
    "    Returns a circuit implementing QFT on (n+1) qubits, using 1 ancillary qubit, viz. anc\n",
    "    \"\"\"\n",
    "    circ = tq.QCircuit()\n",
    "    \n",
    "    return circ\n",
    "\n",
    "\n",
    "def adder(n1: int, n2: int) -> tuple[tq.QCircuit, int]:\n",
    "    \"\"\"\n",
    "    Returns a circuit implementing a QFT adder to add two integers $n_1$ and $n_2$, and the sum $n_1 + n_2$\n",
    "    \"\"\"\n",
    "    circ = tq.QCircuit\n",
    "    \n",
    "    return circ"
   ]
  },
  {
   "cell_type": "markdown",
   "id": "95b1f2ea",
   "metadata": {},
   "source": [
    "## QFT Multiplier\n"
   ]
  },
  {
   "cell_type": "code",
   "execution_count": 8,
   "id": "e632a739",
   "metadata": {},
   "outputs": [],
   "source": [
    "def multiplier(num1: int, num2: int) -> int:\n",
    "    \"\"\"\n",
    "    Inputs:\n",
    "        number_1 : integer positive value that is the first parameter to the multiplier function,\n",
    "        number_2 : integer positive value that is the second parameter to the multiplier function.\n",
    "    \n",
    "    Preconditions:\n",
    "        number_1 > 0\n",
    "        number_2 > 0\n",
    "    \n",
    "    Output:\n",
    "        the positive integer value of the multiplication between number_1 and number_2\n",
    "     \"\"\"\n",
    "\n",
    "    # initialize variables\n",
    "    bin1 = binrep(num1)\n",
    "    bin2 = binrep(num2)\n",
    "    num_bits1 = int(ceil(log(num1)))\n",
    "    num_bits2 = int(ceil(log(num2)))\n",
    "    \n",
    "    circ = tq.QCircuit()    # initialize circuit\n",
    "    \n",
    "    return 0 # the result of the quantum circuit into an integer value"
   ]
  },
  {
   "cell_type": "code",
   "execution_count": null,
   "id": "4b052d88",
   "metadata": {},
   "outputs": [],
   "source": []
  },
  {
   "cell_type": "code",
   "execution_count": null,
   "id": "3be5fe8c",
   "metadata": {},
   "outputs": [],
   "source": []
  },
  {
   "cell_type": "code",
   "execution_count": null,
   "id": "4a336daa",
   "metadata": {},
   "outputs": [],
   "source": []
  },
  {
   "cell_type": "code",
   "execution_count": null,
   "id": "40633d95",
   "metadata": {},
   "outputs": [],
   "source": []
  },
  {
   "cell_type": "code",
   "execution_count": null,
   "id": "1b985355",
   "metadata": {},
   "outputs": [],
   "source": []
  },
  {
   "cell_type": "code",
   "execution_count": null,
   "id": "92d536ff",
   "metadata": {},
   "outputs": [],
   "source": []
  },
  {
   "cell_type": "code",
   "execution_count": null,
   "id": "46bfadfb",
   "metadata": {},
   "outputs": [],
   "source": []
  },
  {
   "cell_type": "code",
   "execution_count": null,
   "id": "3256eb0f",
   "metadata": {},
   "outputs": [],
   "source": []
  },
  {
   "cell_type": "code",
   "execution_count": null,
   "id": "531446f5",
   "metadata": {},
   "outputs": [],
   "source": []
  },
  {
   "cell_type": "code",
   "execution_count": null,
   "id": "4f0711a3",
   "metadata": {},
   "outputs": [],
   "source": []
  },
  {
   "cell_type": "code",
   "execution_count": null,
   "id": "5c65c8aa",
   "metadata": {},
   "outputs": [],
   "source": []
  },
  {
   "cell_type": "code",
   "execution_count": null,
   "id": "48713883",
   "metadata": {},
   "outputs": [],
   "source": []
  },
  {
   "cell_type": "code",
   "execution_count": null,
   "id": "301eea12",
   "metadata": {},
   "outputs": [],
   "source": []
  },
  {
   "cell_type": "code",
   "execution_count": null,
   "id": "84be3a60",
   "metadata": {},
   "outputs": [],
   "source": []
  }
 ],
 "metadata": {
  "kernelspec": {
   "display_name": "Python 3 (ipykernel)",
   "language": "python",
   "name": "python3"
  },
  "language_info": {
   "codemirror_mode": {
    "name": "ipython",
    "version": 3
   },
   "file_extension": ".py",
   "mimetype": "text/x-python",
   "name": "python",
   "nbconvert_exporter": "python",
   "pygments_lexer": "ipython3",
   "version": "3.9.12"
  }
 },
 "nbformat": 4,
 "nbformat_minor": 5
}
