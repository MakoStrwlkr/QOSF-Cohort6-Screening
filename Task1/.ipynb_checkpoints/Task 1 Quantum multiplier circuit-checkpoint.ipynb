{
 "cells": [
  {
   "cell_type": "markdown",
   "id": "fd9f8eb3",
   "metadata": {},
   "source": [
    "# Task 1 Multiplier\n",
    "\n",
    "### Problem statement\n",
    "\n",
    "In this task, we wish to make a multiplier quantum circuit. For this, we design the input to be two positive integers to a function which will process a quantum algorithm that makes the multiplier (see Draper adder) and returns the result in an integer.\n",
    "\n",
    "You cannot use any implementation already designed by the framework. If possible, consider printing out your quantum circuit.\n",
    "\n",
    "### Example usage\n",
    "\n",
    "A = multiplier(5,6)\n",
    "\n",
    "print(A)\n",
    "\n",
    "30\n",
    "\n",
    "### Bonus\n",
    "\n",
    "Use your proposal to design different inputs, and check the limitations of your simulator and framework, consider number of qubits, time of execution, the depth of the quantum circuit and number of the gates.\n",
    "\n",
    "\n",
    "### References\n",
    "\n",
    "[1] Addition on a Quantum Computer\n",
    "https://arxiv.org/pdf/quant-ph/0008033.pdf \n",
    "\n",
    "[2] T-count Optimized Design of Quantum Integer Multiplication  \n",
    "https://arxiv.org/pdf/1706.05113.pdf \n",
    "\n",
    "[3] Quantum arithmetic with the Quantum Fourier Transform \n",
    "https://arxiv.org/pdf/1411.5949.pdf"
   ]
  },
  {
   "cell_type": "markdown",
   "id": "8bb032b0",
   "metadata": {},
   "source": [
    "## Import statements\n",
    "\n",
    "The following block is to contain all necessary import statements for this notebook. Run it before running any other code cell."
   ]
  },
  {
   "cell_type": "code",
   "execution_count": 2,
   "id": "12c5f80e",
   "metadata": {},
   "outputs": [],
   "source": [
    "import tequila\n",
    "import numpy as np"
   ]
  },
  {
   "cell_type": "markdown",
   "id": "97e234e4",
   "metadata": {},
   "source": [
    "## QFT Review\n"
   ]
  },
  {
   "cell_type": "markdown",
   "id": "22a721f6",
   "metadata": {},
   "source": [
    "## QFT Adder\n"
   ]
  },
  {
   "cell_type": "markdown",
   "id": "629762ca",
   "metadata": {},
   "source": [
    "## QFT Multiplier\n"
   ]
  },
  {
   "cell_type": "code",
   "execution_count": null,
   "id": "e4a23553",
   "metadata": {},
   "outputs": [],
   "source": [
    "def multiplier(num1: int, num2: int) -> int:\n",
    "    \"\"\"\n",
    "    Inputs:\n",
    "        number_1 : integer positive value that is the first parameter to the multiplier function,\n",
    "        number_2 : integer positive value that is the second parameter to the multiplier function.\n",
    "    \n",
    "    Preconditions:\n",
    "        number_1 > 0\n",
    "        number_2 > 0\n",
    "    \n",
    "    Output:\n",
    "        the positive integer value of the multiplication between number_1 and number_2\n",
    "     \"\"\"\n",
    "\n",
    "    # use a framework that works with quantum circuits, qiskit, cirq, pennylane, etc.\n",
    "    bin1 = np.binary_repr(num1)\n",
    "\n",
    "    # define a quantum circuit to convert the integer values in qubits, example bases encoding \n",
    "    # basis encoding: n bits are equals to a state of n qubits, example \n",
    "    # The integer value 3 convert to a binary string that is 11, the basis encoding is |11⟩\n",
    "     \n",
    "    # use the state of the art to check the possibles ways to design a multiplier\n",
    "    \n",
    "    return 0 # the result of the quantum circuit into an integer value"
   ]
  },
  {
   "cell_type": "code",
   "execution_count": null,
   "id": "a5f6c6f1",
   "metadata": {},
   "outputs": [],
   "source": []
  },
  {
   "cell_type": "code",
   "execution_count": null,
   "id": "429f0e87",
   "metadata": {},
   "outputs": [],
   "source": []
  },
  {
   "cell_type": "code",
   "execution_count": null,
   "id": "647a684d",
   "metadata": {},
   "outputs": [],
   "source": []
  },
  {
   "cell_type": "code",
   "execution_count": null,
   "id": "8d8a6dc4",
   "metadata": {},
   "outputs": [],
   "source": []
  },
  {
   "cell_type": "code",
   "execution_count": null,
   "id": "ae11eca6",
   "metadata": {},
   "outputs": [],
   "source": []
  },
  {
   "cell_type": "code",
   "execution_count": null,
   "id": "a28e78f4",
   "metadata": {},
   "outputs": [],
   "source": []
  },
  {
   "cell_type": "code",
   "execution_count": null,
   "id": "1cac39a4",
   "metadata": {},
   "outputs": [],
   "source": []
  },
  {
   "cell_type": "code",
   "execution_count": null,
   "id": "a95cbbb5",
   "metadata": {},
   "outputs": [],
   "source": []
  },
  {
   "cell_type": "code",
   "execution_count": null,
   "id": "fad56fb9",
   "metadata": {},
   "outputs": [],
   "source": []
  },
  {
   "cell_type": "code",
   "execution_count": null,
   "id": "cd66db1a",
   "metadata": {},
   "outputs": [],
   "source": []
  },
  {
   "cell_type": "code",
   "execution_count": null,
   "id": "28377379",
   "metadata": {},
   "outputs": [],
   "source": []
  },
  {
   "cell_type": "code",
   "execution_count": null,
   "id": "24262d37",
   "metadata": {},
   "outputs": [],
   "source": []
  },
  {
   "cell_type": "code",
   "execution_count": null,
   "id": "d682d00d",
   "metadata": {},
   "outputs": [],
   "source": []
  },
  {
   "cell_type": "code",
   "execution_count": null,
   "id": "57cbc129",
   "metadata": {},
   "outputs": [],
   "source": []
  }
 ],
 "metadata": {
  "kernelspec": {
   "display_name": "Python 3 (ipykernel)",
   "language": "python",
   "name": "python3"
  },
  "language_info": {
   "codemirror_mode": {
    "name": "ipython",
    "version": 3
   },
   "file_extension": ".py",
   "mimetype": "text/x-python",
   "name": "python",
   "nbconvert_exporter": "python",
   "pygments_lexer": "ipython3",
   "version": "3.9.12"
  }
 },
 "nbformat": 4,
 "nbformat_minor": 5
}
